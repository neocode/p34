{
 "cells": [
  {
   "cell_type": "code",
   "execution_count": 11,
   "metadata": {
    "collapsed": false
   },
   "outputs": [],
   "source": [
    "import sentiments\n",
    "\n",
    "#sentiments.fit_model('sent_dic_ru.txt')"
   ]
  },
  {
   "cell_type": "code",
   "execution_count": 12,
   "metadata": {
    "collapsed": false
   },
   "outputs": [
    {
     "name": "stdout",
     "output_type": "stream",
     "text": [
      "Please enter some text: Катастрофа произошла неожиданно. Солнце ярко светило.\n",
      "Катастрофа произошла неожиданно. 1\n",
      "Солнце ярко светило. 1\n"
     ]
    },
    {
     "data": {
      "text/plain": [
       "'Prediction complete'"
      ]
     },
     "execution_count": 12,
     "metadata": {},
     "output_type": "execute_result"
    }
   ],
   "source": [
    "sentiments.predict('./model/model.pkl', './model/Words.txt')"
   ]
  },
  {
   "cell_type": "code",
   "execution_count": 13,
   "metadata": {
    "collapsed": false
   },
   "outputs": [
    {
     "name": "stdout",
     "output_type": "stream",
     "text": [
      "PR = 87.42846536950537 %\n",
      "RC = 100.0 %\n",
      "F1 = 0.9329262254497442\n",
      "TP = 20830 TN = 7433 FP = 2745 FN = 1319\n",
      "ACC = 0.8742846536950537\n"
     ]
    }
   ],
   "source": [
    "sentiments.run_metrics('sent_dic_ru.txt')"
   ]
  }
 ],
 "metadata": {
  "kernelspec": {
   "display_name": "Python 3",
   "language": "python",
   "name": "python3"
  },
  "language_info": {
   "codemirror_mode": {
    "name": "ipython",
    "version": 3
   },
   "file_extension": ".py",
   "mimetype": "text/x-python",
   "name": "python",
   "nbconvert_exporter": "python",
   "pygments_lexer": "ipython3",
   "version": "3.4.0"
  }
 },
 "nbformat": 4,
 "nbformat_minor": 0
}
