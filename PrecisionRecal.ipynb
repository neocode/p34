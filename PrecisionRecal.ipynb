{
 "cells": [
  {
   "cell_type": "code",
   "execution_count": 19,
   "metadata": {
    "collapsed": true
   },
   "outputs": [],
   "source": [
    "correct = ['sdfasdf','abc abc.', 'abc sdf abc.', 'abc sdf abc.', 'abc abc.']"
   ]
  },
  {
   "cell_type": "code",
   "execution_count": 20,
   "metadata": {
    "collapsed": true
   },
   "outputs": [],
   "source": [
    "result = ['sdfasdf', 'abc abc.a', 'bc sdf abc. abc', 'sdf abc.', 'abc abc.']"
   ]
  },
  {
   "cell_type": "code",
   "execution_count": 21,
   "metadata": {
    "collapsed": false
   },
   "outputs": [],
   "source": [
    "#First first experience - through the sets\n",
    "def pr(c, r):          \n",
    "    set_c = set(c)\n",
    "    set_r = set(r)\n",
    "    set_correct = set_c & set_r\n",
    "    Pr = len(set_correct)/len(r)\n",
    "    Rc = len(set_correct)/len(c)\n",
    "    \n",
    "    \n",
    "    \n",
    "    #set_error = set_c - set_r\n",
    "    #print(set_all)\n",
    "    #print(set_c)\n",
    "    #print(set_r)\n",
    "    #print('set_correct = ', set_correct)\n",
    "    #print('set_error = ', set_error)\n",
    "    return Pr, Rc"
   ]
  },
  {
   "cell_type": "code",
   "execution_count": 22,
   "metadata": {
    "collapsed": false
   },
   "outputs": [
    {
     "name": "stdout",
     "output_type": "stream",
     "text": [
      "(0.4, 0.4)\n"
     ]
    }
   ],
   "source": [
    "print(pr(correct, result))"
   ]
  },
  {
   "cell_type": "code",
   "execution_count": 23,
   "metadata": {
    "collapsed": false
   },
   "outputs": [],
   "source": [
    "#Preparing information for difflib\n",
    "c_lines = '\\n'.join(correct)\n",
    "r_lines = '\\n'.join(result)"
   ]
  },
  {
   "cell_type": "code",
   "execution_count": 24,
   "metadata": {
    "collapsed": false
   },
   "outputs": [
    {
     "name": "stdout",
     "output_type": "stream",
     "text": [
      "  s  d  f  a  s  d  f  \n",
      "  a  b  c     a  b  c  .+ a  \n",
      "- a  b  c     s  d  f     a  b  c  .- \n",
      "+    a  b  c-  + \n",
      "  s  d  f     a  b  c  .  \n",
      "  a  b  c     a  b  c  .\n"
     ]
    }
   ],
   "source": [
    "#Difflib default output (experiment)\n",
    "import difflib\n",
    "\n",
    "d = difflib.Differ()\n",
    "diff = d.compare(c_lines, r_lines)\n",
    "print (''.join(diff))"
   ]
  },
  {
   "cell_type": "code",
   "execution_count": 25,
   "metadata": {
    "collapsed": false
   },
   "outputs": [
    {
     "name": "stdout",
     "output_type": "stream",
     "text": [
      "['  sdfasdf', '+ abc abc.a', '+ bc sdf abc. abc', '+ sdf abc.', '  abc abc.', '- abc sdf abc.', '- abc sdf abc.', '- abc abc.']\n"
     ]
    }
   ],
   "source": [
    "#Difflib output formed into list\n",
    "diff = difflib.ndiff(c_lines.split('\\n'), r_lines.split('\\n'))\n",
    "diff_list = list(diff)\n",
    "print(diff_list)"
   ]
  },
  {
   "cell_type": "code",
   "execution_count": 26,
   "metadata": {
    "collapsed": false
   },
   "outputs": [
    {
     "name": "stdout",
     "output_type": "stream",
     "text": [
      "['sdfasdf', '+ abc abc.a', '+ bc sdf abc. abc', '+ sdf abc.', 'abc abc.', '- abc sdf abc.', '- abc sdf abc.', '- abc abc.']\n"
     ]
    }
   ],
   "source": [
    "#Difflib output left stripped\n",
    "#Correct elements will be just like in correct list - without \" \"\n",
    "diff_list = [x.lstrip()  for x in diff_list]\n",
    "print(diff_list)"
   ]
  },
  {
   "cell_type": "code",
   "execution_count": 27,
   "metadata": {
    "collapsed": false
   },
   "outputs": [
    {
     "name": "stdout",
     "output_type": "stream",
     "text": [
      "['sdfasdf', 'abc abc.', 'abc abc.']\n",
      "{'abc abc.': 2, 'abc sdf abc.': 2}\n",
      "{'bc sdf abc. abc': 1, 'abc abc.': 1, 'sdfasdf': 1, 'sdf abc.': 1, 'abc abc.a': 1}\n",
      "abc abc.\n",
      "1\n",
      "0.4 0.4\n"
     ]
    }
   ],
   "source": [
    "#Find overlaps for correct elements\n",
    "overlap = [x for x in correct if x in diff_list]\n",
    "print(overlap)\n",
    "#The length of the overlap list (include duplicate elements if one of them divided correctly)\n",
    "Rel = len(overlap)\n",
    "#Dictionary for items in correct list that have repeating\n",
    "rep_correct = dict((x, correct.count(x)) for x in set(correct) if correct.count(x) > 1)\n",
    "print(rep_correct)\n",
    "#Dictionary for all items in result list\n",
    "rep_result = dict((x, result.count(x)) for x in set(result))\n",
    "print(rep_result)\n",
    "#If duplicate key is in result dictionary then compare the number of repetitions in correct and result lists\n",
    "for key in rep_correct.keys():\n",
    "    if key in rep_result:        \n",
    "        Corr = abs(rep_correct[key] - rep_result[key])\n",
    "        print(key)\n",
    "        print(Corr)\n",
    "        #Correction\n",
    "        Rel = Rel - Corr\n",
    "Pr = Rel/len(result)\n",
    "Rc = Rel/len(correct)\n",
    "print(Pr, Rc)"
   ]
  },
  {
   "cell_type": "code",
   "execution_count": null,
   "metadata": {
    "collapsed": true
   },
   "outputs": [],
   "source": []
  }
 ],
 "metadata": {
  "kernelspec": {
   "display_name": "Python 3",
   "language": "python",
   "name": "python3"
  },
  "language_info": {
   "codemirror_mode": {
    "name": "ipython",
    "version": 3
   },
   "file_extension": ".py",
   "mimetype": "text/x-python",
   "name": "python",
   "nbconvert_exporter": "python",
   "pygments_lexer": "ipython3",
   "version": "3.4.0"
  }
 },
 "nbformat": 4,
 "nbformat_minor": 0
}
