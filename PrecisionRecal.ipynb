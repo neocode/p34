{
 "cells": [
  {
   "cell_type": "code",
   "execution_count": 341,
   "metadata": {
    "collapsed": true
   },
   "outputs": [],
   "source": [
    "correct = ['sdfasdf','abc abc.', 'abc sdf abc.', 'abc sdf abc.', 'abc abc.']"
   ]
  },
  {
   "cell_type": "code",
   "execution_count": 342,
   "metadata": {
    "collapsed": true
   },
   "outputs": [],
   "source": [
    "result = ['sdfasdf', 'abc abc.a', 'bc sdf abc. abc', 'sdf abc.', 'abc abc.']"
   ]
  },
  {
   "cell_type": "code",
   "execution_count": 343,
   "metadata": {
    "collapsed": false
   },
   "outputs": [],
   "source": [
    "def pr(c, r):          \n",
    "    set_c = set(c)\n",
    "    set_r = set(r)\n",
    "    set_correct = set_c & set_r\n",
    "    Pr = len(set_correct)/len(r)\n",
    "    Rc = len(set_correct)/len(c)\n",
    "    \n",
    "    \n",
    "    \n",
    "    #set_error = set_c - set_r\n",
    "    #print(set_all)\n",
    "    #print(set_c)\n",
    "    #print(set_r)\n",
    "    #print('set_correct = ', set_correct)\n",
    "    #print('set_error = ', set_error)\n",
    "    return Pr, Rc"
   ]
  },
  {
   "cell_type": "code",
   "execution_count": 344,
   "metadata": {
    "collapsed": false
   },
   "outputs": [
    {
     "name": "stdout",
     "output_type": "stream",
     "text": [
      "(0.4, 0.4)\n"
     ]
    }
   ],
   "source": [
    "print(pr(correct, result))"
   ]
  },
  {
   "cell_type": "code",
   "execution_count": 345,
   "metadata": {
    "collapsed": false
   },
   "outputs": [],
   "source": [
    "c_lines = '\\n'.join(correct)\n",
    "r_lines = '\\n'.join(result)"
   ]
  },
  {
   "cell_type": "code",
   "execution_count": 346,
   "metadata": {
    "collapsed": false
   },
   "outputs": [
    {
     "name": "stdout",
     "output_type": "stream",
     "text": [
      "  s  d  f  a  s  d  f  \n",
      "  a  b  c     a  b  c  .+ a  \n",
      "- a  b  c     s  d  f     a  b  c  .- \n",
      "+    a  b  c-  + \n",
      "  s  d  f     a  b  c  .  \n",
      "  a  b  c     a  b  c  .\n"
     ]
    }
   ],
   "source": [
    "import difflib\n",
    "\n",
    "d = difflib.Differ()\n",
    "diff = d.compare(c_lines, r_lines)\n",
    "print (''.join(diff))"
   ]
  },
  {
   "cell_type": "code",
   "execution_count": 347,
   "metadata": {
    "collapsed": false
   },
   "outputs": [
    {
     "name": "stdout",
     "output_type": "stream",
     "text": [
      "['  sdfasdf', '+ abc abc.a', '+ bc sdf abc. abc', '+ sdf abc.', '  abc abc.', '- abc sdf abc.', '- abc sdf abc.', '- abc abc.']\n",
      "sdfasdfabc abc.abc sdf abc.abc sdf abc.abc abc.\n"
     ]
    }
   ],
   "source": [
    "diff = difflib.ndiff(c_lines.split('\\n'), r_lines.split('\\n'))\n",
    "diff_list = list(diff)\n",
    "print(diff_list)\n",
    "print (''.join(difflib.restore(diff_list, 1)))"
   ]
  },
  {
   "cell_type": "code",
   "execution_count": 348,
   "metadata": {
    "collapsed": false
   },
   "outputs": [
    {
     "name": "stdout",
     "output_type": "stream",
     "text": [
      "['sdfasdf', '+ abc abc.a', '+ bc sdf abc. abc', '+ sdf abc.', 'abc abc.', '- abc sdf abc.', '- abc sdf abc.', '- abc abc.']\n"
     ]
    }
   ],
   "source": [
    "diff_list = [x.lstrip()  for x in diff_list]\n",
    "print(diff_list)"
   ]
  },
  {
   "cell_type": "code",
   "execution_count": 349,
   "metadata": {
    "collapsed": false
   },
   "outputs": [
    {
     "name": "stdout",
     "output_type": "stream",
     "text": [
      "['sdfasdf', 'abc abc.', 'abc abc.']\n",
      "{'abc abc.': 2, 'abc sdf abc.': 2}\n",
      "{'abc abc.': 1, 'bc sdf abc. abc': 1, 'sdf abc.': 1, 'sdfasdf': 1, 'abc abc.a': 1}\n",
      "abc abc.\n",
      "1\n",
      "0.4 0.4\n"
     ]
    }
   ],
   "source": [
    "overlap = [x for x in correct if x in diff_list]\n",
    "print(overlap)\n",
    "Rel = len(overlap)\n",
    "rep_correct = dict((x, correct.count(x)) for x in set(correct) if correct.count(x) > 1)\n",
    "print(rep_correct)\n",
    "rep_result = dict((x, result.count(x)) for x in set(result))\n",
    "print(rep_result)\n",
    "\n",
    "for key in rep_correct.keys():\n",
    "    if key in rep_result:        \n",
    "        Corr = abs(rep_correct[key] - rep_result[key])\n",
    "        print(key)\n",
    "        print(Corr)\n",
    "        Rel = Rel - Corr\n",
    "Pr = Rel/len(result)\n",
    "Rc = Rel/len(correct)\n",
    "print(Pr, Rc)"
   ]
  },
  {
   "cell_type": "code",
   "execution_count": null,
   "metadata": {
    "collapsed": true
   },
   "outputs": [],
   "source": []
  }
 ],
 "metadata": {
  "kernelspec": {
   "display_name": "Python 3",
   "language": "python",
   "name": "python3"
  },
  "language_info": {
   "codemirror_mode": {
    "name": "ipython",
    "version": 3
   },
   "file_extension": ".py",
   "mimetype": "text/x-python",
   "name": "python",
   "nbconvert_exporter": "python",
   "pygments_lexer": "ipython3",
   "version": "3.4.0"
  }
 },
 "nbformat": 4,
 "nbformat_minor": 0
}
