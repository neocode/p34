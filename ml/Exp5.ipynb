{
 "cells": [
  {
   "cell_type": "code",
   "execution_count": 229,
   "metadata": {
    "collapsed": false
   },
   "outputs": [],
   "source": [
    "import re\n",
    "\n",
    "#Make the dictionary from dic_ru file\n",
    "with open('dic_ru.txt') as f:\n",
    "    dic_list = f.readlines()\n",
    "dic_list = [x.strip('\\n') for x in dic_list]\n",
    "dic = []\n",
    "for x in dic_list:\n",
    "    str_list = x.split()\n",
    "    if len(str_list) == 3:\n",
    "        #print(str_list[0], str_list[2])        \n",
    "        dic.append([str_list[0], float(str_list[2])])\n",
    "\n",
    "#print(dic)"
   ]
  },
  {
   "cell_type": "code",
   "execution_count": 230,
   "metadata": {
    "collapsed": false
   },
   "outputs": [],
   "source": [
    "#Ordered output to the file\n",
    "with open ('dic_learn_ru.txt', 'w') as fp:    \n",
    "    for x in dic:\n",
    "        fp.write(\"%s %s %s\\n\" % (dic.index(x), x[0], x[1]))\n",
    "\n",
    "#Make the dictionary from sent_dic_ru file\n",
    "with open('sent_dic_ru.txt') as f:\n",
    "    sent = f.readlines()\n",
    "sent = [x.strip('\\n') for x in sent]                \n",
    "\n",
    "\n",
    "sent_list = []\n",
    "for x in sent:      \n",
    "    #Split into words\n",
    "    str_list = x.split()\n",
    "    \n",
    "    #List from sentenses (words in list)\n",
    "    sent_list.append(str_list)"
   ]
  },
  {
   "cell_type": "code",
   "execution_count": 231,
   "metadata": {
    "collapsed": true
   },
   "outputs": [],
   "source": [
    "import pymorphy2\n",
    "\n",
    "morph = pymorphy2.MorphAnalyzer()\n",
    "def norm(word):\n",
    "    p = morph.parse(word)[0]\n",
    "    return p.normal_form, p.tag.POS"
   ]
  },
  {
   "cell_type": "code",
   "execution_count": 232,
   "metadata": {
    "collapsed": false
   },
   "outputs": [],
   "source": [
    "#Normalization and stop-words delete from sent_list\n",
    "sent_list_norm = []\n",
    "for sent in sent_list:\n",
    "    one_sent_list = []\n",
    "    one_sent = ()\n",
    "    if abs(float(sent[-1])) > 0.3:\n",
    "        for x in sent[:-1]:\n",
    "            x_norm = norm(x)        \n",
    "            if x_norm[1] not in ['PREP', 'PRCL', 'CONJ', 'NPRO']:\n",
    "                one_sent_list.append(x_norm[0])\n",
    "        weight = float(sent[-1])\n",
    "        if weight > 0:\n",
    "            weight_norm = 1\n",
    "        else:\n",
    "            weight_norm = -1\n",
    "        one_sent = (one_sent_list, weight_norm)\n",
    "        sent_list_norm.append(one_sent)\n",
    "#print(sent_list_norm)    "
   ]
  },
  {
   "cell_type": "code",
   "execution_count": 233,
   "metadata": {
    "collapsed": false
   },
   "outputs": [
    {
     "name": "stdout",
     "output_type": "stream",
     "text": [
      "60404 15102\n"
     ]
    }
   ],
   "source": [
    "import math\n",
    "\n",
    "n_train = math.trunc(0.8*len(sent_list_norm))\n",
    "n_test = len(sent_list_norm) - n_train\n",
    "print(n_train, n_test)"
   ]
  },
  {
   "cell_type": "code",
   "execution_count": 234,
   "metadata": {
    "collapsed": false
   },
   "outputs": [],
   "source": [
    "import collections\n",
    "\n",
    "#fp1 = open ('vect_sent.txt', 'w')\n",
    "vect_sent = []\n",
    "vect_label = []\n",
    "for x in sent_list_norm:\n",
    "    cnt = collections.Counter(x[0])\n",
    "    vect = []\n",
    "    for y in dic:       \n",
    "        if y[0] in x[0]:            \n",
    "            vect.append(cnt[y[0]])            \n",
    "        else:\n",
    "            vect.append(0)                \n",
    "    vect_sent.append(vect)\n",
    "    vect_label.append(x[1])\n",
    "#fp1.write(\"%s %s\\n\" % (vect_sent, vect_weight))\n",
    "#print(vect_sent)"
   ]
  },
  {
   "cell_type": "code",
   "execution_count": 235,
   "metadata": {
    "collapsed": false
   },
   "outputs": [
    {
     "name": "stdout",
     "output_type": "stream",
     "text": [
      "[ 1  1  1 ...,  1  1 -1]\n",
      "[ 1  1  1 ..., -1  1  1]\n"
     ]
    }
   ],
   "source": [
    "%matplotlib inline\n",
    "import matplotlib.pyplot as plt\n",
    "import numpy as np\n",
    "\n",
    "vect_sent = np.array(vect_sent)\n",
    "#print(vect_sent)\n",
    "vect_label = np.array(vect_label)\n",
    "print(vect_label)\n",
    "print(vect_label[:-n_test])"
   ]
  },
  {
   "cell_type": "code",
   "execution_count": 236,
   "metadata": {
    "collapsed": false
   },
   "outputs": [
    {
     "data": {
      "text/plain": [
       "SVC(C=1.0, cache_size=200, class_weight=None, coef0=0.0, degree=3, gamma=0.0,\n",
       "  kernel='linear', max_iter=-1, probability=False, random_state=None,\n",
       "  shrinking=True, tol=0.001, verbose=False)"
      ]
     },
     "execution_count": 236,
     "metadata": {},
     "output_type": "execute_result"
    }
   ],
   "source": [
    "from sklearn.svm import SVC # \"Support Vector Classifier\"\n",
    "clf = SVC(kernel='linear')\n",
    "clf.fit(vect_sent[:-n_test], vect_label[:-n_test])"
   ]
  },
  {
   "cell_type": "code",
   "execution_count": 237,
   "metadata": {
    "collapsed": false
   },
   "outputs": [],
   "source": [
    "vect_label_test = []\n",
    "for x in vect_sent[n_train:]:\n",
    "    vect_label_test.extend(clf.predict(x).tolist())    \n",
    "#print(vect_label_test)"
   ]
  },
  {
   "cell_type": "code",
   "execution_count": 238,
   "metadata": {
    "collapsed": false
   },
   "outputs": [],
   "source": [
    "vect_label_true = []\n",
    "for x in vect_label[n_train:]:\n",
    "    vect_label_true.append(x.tolist())    \n",
    "#print(vect_label_true)"
   ]
  },
  {
   "cell_type": "code",
   "execution_count": 240,
   "metadata": {
    "collapsed": false
   },
   "outputs": [
    {
     "name": "stdout",
     "output_type": "stream",
     "text": [
      "PR = 99.98013508144616 %\n",
      "RC = 100.0 %\n",
      "F1 = 0.9999006655408761\n",
      "TP = 10021 TN = 5078 FP = 1 FN = 2\n",
      "ACC = 0.9998013508144616\n"
     ]
    }
   ],
   "source": [
    "yes = 0\n",
    "no = 0\n",
    "TP = 0\n",
    "TN = 0\n",
    "FP = 0\n",
    "FN = 0\n",
    "for i in range(n_test):    \n",
    "    if vect_label_test[i] ==  vect_label_true[i]:        \n",
    "        yes += 1\n",
    "        if vect_label_test[i] == 1:\n",
    "            TP += 1\n",
    "        else:\n",
    "            TN += 1\n",
    "    else:\n",
    "        no += 1\n",
    "        if (vect_label_test[i] == 1) and (vect_label_true[i] == -1):\n",
    "            FP += 1        \n",
    "        else:\n",
    "            FN += 1            \n",
    "PR = yes/n_test\n",
    "RC = yes/yes\n",
    "F1 = (2*PR*RC)/(PR+RC)\n",
    "ACC = (TP + TN)/(TP + FP + TN + FN)\n",
    "print('PR =', PR*100, '%')\n",
    "print('RC =', RC*100, '%')\n",
    "print('F1 =', F1)\n",
    "print('TP =', TP, 'TN =', TN, 'FP =', FP, 'FN =', FN)\n",
    "print('ACC =', ACC)"
   ]
  }
 ],
 "metadata": {
  "kernelspec": {
   "display_name": "Python 3",
   "language": "python",
   "name": "python3"
  },
  "language_info": {
   "codemirror_mode": {
    "name": "ipython",
    "version": 3
   },
   "file_extension": ".py",
   "mimetype": "text/x-python",
   "name": "python",
   "nbconvert_exporter": "python",
   "pygments_lexer": "ipython3",
   "version": "3.4.0"
  }
 },
 "nbformat": 4,
 "nbformat_minor": 0
}
