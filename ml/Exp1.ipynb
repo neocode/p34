{
 "cells": [
  {
   "cell_type": "code",
   "execution_count": 10,
   "metadata": {
    "collapsed": false
   },
   "outputs": [],
   "source": [
    "import re\n",
    "\n",
    "#Make the dictionary from dic_ru file\n",
    "with open('dic_ru.txt') as f:\n",
    "    dic_list = f.readlines()\n",
    "dic_list = [x.strip('\\n') for x in dic_list]\n",
    "dic = {}\n",
    "num = 0\n",
    "for x in dic_list:\n",
    "    str_list = x.split()\n",
    "    if len(str_list) == 3:\n",
    "        #print(str_list[0], str_list[2])        \n",
    "        dic[str_list[0]] = [num, float(str_list[2])]\n",
    "        num += 1\n",
    "#print(dic)\n",
    "\n",
    "#Normalize dictionary for SVM\n",
    "dic_norm = {}\n",
    "num = 0\n",
    "for x in dic.keys():\n",
    "    if abs(dic[x][1]) >= 0.3:\n",
    "        if dic[x][1] > 0:                        \n",
    "            dic_norm[x] = [num, 1]\n",
    "            num += 1\n",
    "        else:\n",
    "            dic_norm[x] = [num, -1]\n",
    "            num += 1\n",
    "    \n",
    "with open ('dic_learn_ru.txt', 'w') as fp:\n",
    "    for x in range(0, num):\n",
    "        for y in dic_norm.keys():\n",
    "            if x == dic_norm[y][0]:\n",
    "                fp.write(\"%s %s %s\\n\" % (dic_norm[y][0], y, dic_norm[y][1]))\n",
    "\n",
    "from sklearn.svm import SVC # \"Support Vector Classifier\"\n",
    "clf = SVC(kernel='linear')\n",
    "clf.fit(X, y)"
   ]
  }
 ],
 "metadata": {
  "kernelspec": {
   "display_name": "Python 3",
   "language": "python",
   "name": "python3"
  },
  "language_info": {
   "codemirror_mode": {
    "name": "ipython",
    "version": 3
   },
   "file_extension": ".py",
   "mimetype": "text/x-python",
   "name": "python",
   "nbconvert_exporter": "python",
   "pygments_lexer": "ipython3",
   "version": "3.4.0"
  }
 },
 "nbformat": 4,
 "nbformat_minor": 0
}
