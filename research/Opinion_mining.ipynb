{
 "cells": [
  {
   "cell_type": "code",
   "execution_count": 113,
   "metadata": {
    "collapsed": false
   },
   "outputs": [
    {
     "name": "stdout",
     "output_type": "stream",
     "text": [
      "{'экран большой и яркий ': 0, 'отлично проработал все лето  экран на солнце не блекнет ': 0.23908093438016947, 'производит очень положительное впечатление  несмотря на внушительные габариты и вес изделия ': 0, 'отличный телефон    просто красавец ': 0.5049900736363768}\n",
      "RESULT = 0.18601775200413656\n"
     ]
    }
   ],
   "source": [
    "import re\n",
    "\n",
    "with open('neg_rezult.txt') as f:\n",
    "    dic_list = f.readlines()\n",
    "dic_list = [x.strip('\\n') for x in dic_list]\n",
    "dic = {}\n",
    "for x in dic_list:\n",
    "    str_list = x.split()\n",
    "    if len(str_list) == 3:\n",
    "        #print(str_list[0], str_list[2])        \n",
    "        dic[str_list[0]] = float(str_list[2])\n",
    "#print(dic)\n",
    "\n",
    "with open('text.txt') as f:\n",
    "    text = f.read()\n",
    "sentences = re.split(r'(?<!\\w\\.\\w.)(?<![A-Z][a-z]\\.)(?<=\\.|\\?)\\s', text)\n",
    "#print(sentences)\n",
    "\n",
    "opinion_txt = 0\n",
    "num_txt = 0\n",
    "opinion_dic = {}\n",
    "for x in sentences: \n",
    "    opinion_sent = 0\n",
    "    num_sent = 0\n",
    "    \n",
    "    #Delete commas, points and other and make lowercase\n",
    "    delete = re.compile(u'\\W+?', re.UNICODE)\n",
    "    x = delete.sub(' ', x)\n",
    "    #Delete empty elements   \n",
    "    x = x.lower()\n",
    "    #print(x)\n",
    "    \n",
    "    #Split into words\n",
    "    str_list = x.split()\n",
    "        \n",
    "    #str_list = filter(None, str_list)\n",
    "    \n",
    "    if str_list:\n",
    "        #print(str_list)\n",
    "        num_txt += 1 \n",
    "        for y in str_list:        \n",
    "            if y in dic.keys():\n",
    "                #print(y, dic[y])\n",
    "                num_sent += 1 \n",
    "                opinion_sent += dic[y]\n",
    "        if num_sent != 0:\n",
    "            opinion_sent = opinion_sent / num_sent\n",
    "            #print(opinion_sent)\n",
    "        opinion_dic[x] = opinion_sent    \n",
    "print(opinion_dic)\n",
    "\n",
    "opinion_sum = 0\n",
    "for z in opinion_dic:\n",
    "    #print(opinion_dic[z])\n",
    "    opinion_sum += opinion_dic[z]\n",
    "opinion_txt = opinion_sum / num_txt\n",
    "print('RESULT =', opinion_txt)\n"
   ]
  },
  {
   "cell_type": "code",
   "execution_count": null,
   "metadata": {
    "collapsed": true
   },
   "outputs": [],
   "source": []
  },
  {
   "cell_type": "code",
   "execution_count": null,
   "metadata": {
    "collapsed": true
   },
   "outputs": [],
   "source": []
  }
 ],
 "metadata": {
  "kernelspec": {
   "display_name": "Python 3",
   "language": "python",
   "name": "python3"
  },
  "language_info": {
   "codemirror_mode": {
    "name": "ipython",
    "version": 3
   },
   "file_extension": ".py",
   "mimetype": "text/x-python",
   "name": "python",
   "nbconvert_exporter": "python",
   "pygments_lexer": "ipython3",
   "version": "3.4.0"
  }
 },
 "nbformat": 4,
 "nbformat_minor": 0
}
