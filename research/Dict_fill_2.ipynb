{
 "cells": [
  {
   "cell_type": "code",
   "execution_count": 7,
   "metadata": {
    "collapsed": false
   },
   "outputs": [],
   "source": [
    "import re, pymorphy2\n",
    "\n",
    "with open('neg_rezult.txt') as f:\n",
    "    dic_list = f.readlines()\n",
    "dic_list = [x.strip('\\n') for x in dic_list]\n",
    "dic = {}\n",
    "for x in dic_list:\n",
    "    str_list = x.split()\n",
    "    if len(str_list) == 3:\n",
    "        #print(str_list[0], str_list[2])        \n",
    "        dic[str_list[0]] = [str_list[1], float(str_list[2])]\n",
    "#print(dic)\n",
    "\n",
    "morph = pymorphy2.MorphAnalyzer()\n",
    "def adj(word):\n",
    "    p = morph.parse(word)[0]\n",
    "    return p.tag.POS\n",
    "\n",
    "#Split text into sentences and remove empty elements from list\n",
    "with open('rus_news_2010_1M-sentences.txt') as f:\n",
    "    for line in f:           \n",
    "        sentences = re.split(r'(?<!\\w\\.\\w.)(?<![A-Z][a-z]\\.)(?<=\\.|\\?)\\s', line)\n",
    "        sentences = list(filter(None, sentences))\n",
    "        print(sentences)               \n",
    "       "
   ]
  }
 ],
 "metadata": {
  "kernelspec": {
   "display_name": "Python 3",
   "language": "python",
   "name": "python3"
  },
  "language_info": {
   "codemirror_mode": {
    "name": "ipython",
    "version": 3
   },
   "file_extension": ".py",
   "mimetype": "text/x-python",
   "name": "python",
   "nbconvert_exporter": "python",
   "pygments_lexer": "ipython3",
   "version": "3.4.0"
  }
 },
 "nbformat": 4,
 "nbformat_minor": 0
}
