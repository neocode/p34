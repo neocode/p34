{
 "cells": [
  {
   "cell_type": "code",
   "execution_count": 29,
   "metadata": {
    "collapsed": false
   },
   "outputs": [],
   "source": [
    "import re, pymorphy2\n",
    "\n",
    "with open('neg_rezult.txt') as f:\n",
    "    dic_list = f.readlines()\n",
    "dic_list = [x.strip('\\n') for x in dic_list]\n",
    "dic = {}\n",
    "for x in dic_list:\n",
    "    str_list = x.split()\n",
    "    if len(str_list) == 3:\n",
    "        #print(str_list[0], str_list[2])        \n",
    "        dic[str_list[0]] = [str_list[1], float(str_list[2])]\n",
    "#print(dic)\n",
    "\n",
    "morph = pymorphy2.MorphAnalyzer()\n",
    "def adj(word):\n",
    "    p = morph.parse(word)[0]\n",
    "    return p.normal_form, p.tag.POS\n",
    "\n",
    "#Read the file\n",
    "with open('1_100000.txt') as f:\n",
    "    text = f.read()\n",
    "\n",
    "#Delete digits    \n",
    "text = re.sub(r\"\\b\\d+\\b\", \"\", text)\n",
    "\n",
    "#Split text into sentences and remove empty elements from list\n",
    "sentences = re.split(r'(?<!\\w\\.\\w.)(?<![A-Z][a-z]\\.)(?<=\\.|\\?)\\s', text)\n",
    "sentences = list(filter(None, sentences))\n",
    "#print(sentences)\n",
    "\n",
    "sent_list = []\n",
    "for x in sentences:  \n",
    "    #Delete commas, points and other and make lowercase\n",
    "    delete = re.compile(u'\\W+?', re.UNICODE)\n",
    "    x = delete.sub(' ', x)\n",
    "    #Delete empty elements   \n",
    "    x = x.lower()\n",
    "    #print(x)\n",
    "    \n",
    "    #Split into words\n",
    "    str_list = x.split()\n",
    "    \n",
    "    #List from sentenses (words in list)\n",
    "    sent_list.append(str_list)\n",
    "\n",
    "#print(sent_list)\n",
    "\n",
    "dic_new = {}\n",
    "with open ('dic_new2.txt', 'w') as fp:\n",
    "    for sent in sent_list:\n",
    "        for word in sent:\n",
    "            #print(adj(word))\n",
    "            word_adj = adj(word)\n",
    "            if word_adj[1] not in ['PREP', 'PRCL', 'CONJ', 'NPRO']:\n",
    "                if word_adj[0] not in dic_new.keys():\n",
    "                    if word_adj[0] not in dic.keys():\n",
    "                        dic_new[word_adj[0]] = [word_adj[1], 0]\n",
    "                        fp.write(\"%s %s %s\\n\" % (word_adj[0],  dic_new[word_adj[0]][0],  dic_new[word_adj[0]][1])) \n",
    "                    else:\n",
    "                        dic_new[word_adj[0]] = [word_adj[1], dic[word_adj[0]][1]]\n",
    "                        fp.write(\"%s %s %s\\n\" % (word_adj[0],  dic_new[word_adj[0]][0],  dic_new[word_adj[0]][1]))\n",
    "                    #print(word_adj[0], dic_new[word_adj[0]])\n",
    "#print(dic_new)"
   ]
  },
  {
   "cell_type": "code",
   "execution_count": null,
   "metadata": {
    "collapsed": true
   },
   "outputs": [],
   "source": []
  }
 ],
 "metadata": {
  "kernelspec": {
   "display_name": "Python 3",
   "language": "python",
   "name": "python3"
  },
  "language_info": {
   "codemirror_mode": {
    "name": "ipython",
    "version": 3
   },
   "file_extension": ".py",
   "mimetype": "text/x-python",
   "name": "python",
   "nbconvert_exporter": "python",
   "pygments_lexer": "ipython3",
   "version": "3.4.0"
  }
 },
 "nbformat": 4,
 "nbformat_minor": 0
}
